{
  "cells": [
    {
      "cell_type": "markdown",
      "metadata": {},
      "source": [
        "# Regression Modeling to Predict Powerlifting Totals\n",
        "This notebook is part of Deliverable 2 for MSCS 634. The goal is to build and evaluate regression models that predict a powerlifter's `TotalKg` based on selected features from the OpenPowerlifting dataset.\n",
        "\n",
        "Since I enjoy powerlifting, I was especially interested in understanding how strongly lifters' bodyweight and individual lift scores (squat, bench, deadlift) influence their total meet performance.\n"
      ]
    },
    {
      "cell_type": "code",
      "execution_count": 1,
      "metadata": {},
      "outputs": [],
      "source": [
        "import pandas as pd\n",
        "import numpy as np\n",
        "import matplotlib.pyplot as plt\n",
        "import seaborn as sns\n",
        "\n",
        "from sklearn.model_selection import train_test_split, cross_val_score\n",
        "from sklearn.linear_model import LinearRegression, Ridge, Lasso\n",
        "from sklearn.preprocessing import StandardScaler\n",
        "from sklearn.metrics import mean_squared_error, r2_score\n"
      ]
    },
    {
      "cell_type": "markdown",
      "metadata": {},
      "source": [
        "## Data Loading and Preprocessing\n",
        "\n",
        "We start by loading the OpenPowerlifting dataset. The original file contains over 2 million records. For this analysis, I selected only the numeric columns relevant to predicting `TotalKg`:\n",
        "- `BodyweightKg`\n",
        "- `Best3SquatKg`\n",
        "- `Best3BenchKg`\n",
        "- `Best3DeadliftKg`\n",
        "\n",
        "I also created a new feature called `LiftRatio`, which divides `TotalKg` by `BodyweightKg`, to capture relative strength.\n"
      ]
    },
    {
      "cell_type": "code",
      "execution_count": 2,
      "metadata": {},
      "outputs": [],
      "source": [
        "df = pd.read_csv(\"openpowerlifting-2021-06-26-027dc895.csv\", low_memory=False)\n",
        "\n",
        "# Keep only the columns needed for regression\n",
        "df = df[['BodyweightKg', 'Best3SquatKg', 'Best3BenchKg', 'Best3DeadliftKg', 'TotalKg']]\n",
        "\n",
        "# Drop rows with missing values\n",
        "df.dropna(inplace=True)\n",
        "\n",
        "# Create a new feature: Lift-to-Bodyweight ratio\n",
        "df['LiftRatio'] = df['TotalKg'] / df['BodyweightKg']\n"
      ]
    },
    {
      "cell_type": "code",
      "execution_count": 3,
      "metadata": {},
      "outputs": [],
      "source": [
        "X = df[['BodyweightKg', 'Best3SquatKg', 'Best3BenchKg', 'Best3DeadliftKg']]\n",
        "y = df['TotalKg']\n",
        "\n",
        "# Train/test split\n",
        "X_train, X_test, y_train, y_test = train_test_split(X, y, test_size=0.2, random_state=42)\n"
      ]
    },
    {
      "cell_type": "markdown",
      "metadata": {},
      "source": [
        "## Feature Engineering\n",
        "\n",
        "To simplify modeling, I focused on four continuous features that are likely to have a direct impact on a lifter’s total performance.\n",
        "\n",
        "Categorical variables such as `Sex`, `Equipment`, and `Federation` were excluded from this version for simplicity but may be explored in future modeling.\n",
        "\n",
        "I also standardized the feature set so that regularization models like Ridge and Lasso would perform correctly.\n"
      ]
    },
    {
      "cell_type": "code",
      "execution_count": 4,
      "metadata": {},
      "outputs": [],
      "source": [
        "scaler = StandardScaler()\n",
        "X_train_scaled = scaler.fit_transform(X_train)\n",
        "X_test_scaled = scaler.transform(X_test)\n"
      ]
    },
    {
      "cell_type": "markdown",
      "metadata": {},
      "source": [
        "## Regression Modeling\n",
        "\n",
        "I trained and evaluated three models:\n",
        "- Linear Regression (no regularization)\n",
        "- Ridge Regression (L2 regularization)\n",
        "- Lasso Regression (L1 regularization)\n",
        "\n",
        "Each model was trained using an 80/20 train-test split. I also performed 5-fold cross-validation to assess model stability.\n"
      ]
    },
    {
      "cell_type": "code",
      "execution_count": 5,
      "metadata": {},
      "outputs": [
        {
          "name": "stdout",
          "output_type": "stream",
          "text": [
            "Linear Regression:\n",
            "R²: 0.9999999890410428\n",
            "MSE: 0.0003231390381188344\n"
          ]
        }
      ],
      "source": [
        "lr = LinearRegression()\n",
        "lr.fit(X_train, y_train)\n",
        "y_pred_lr = lr.predict(X_test)\n",
        "\n",
        "print(\"Linear Regression:\")\n",
        "print(\"R²:\", r2_score(y_test, y_pred_lr))\n",
        "print(\"MSE:\", mean_squared_error(y_test, y_pred_lr))\n"
      ]
    },
    {
      "cell_type": "code",
      "execution_count": 6,
      "metadata": {},
      "outputs": [
        {
          "name": "stdout",
          "output_type": "stream",
          "text": [
            "Ridge Regression:\n",
            "R²: 0.9999999890406266\n",
            "MSE: 0.0003231513110657922\n"
          ]
        }
      ],
      "source": [
        "ridge = Ridge(alpha=1.0)\n",
        "ridge.fit(X_train_scaled, y_train)\n",
        "y_pred_ridge = ridge.predict(X_test_scaled)\n",
        "\n",
        "print(\"Ridge Regression:\")\n",
        "print(\"R²:\", r2_score(y_test, y_pred_ridge))\n",
        "print(\"MSE:\", mean_squared_error(y_test, y_pred_ridge))\n"
      ]
    },
    {
      "cell_type": "code",
      "execution_count": 7,
      "metadata": {},
      "outputs": [
        {
          "name": "stdout",
          "output_type": "stream",
          "text": [
            "Lasso Regression:\n",
            "R²: 0.999999590095263\n",
            "MSE: 0.012086571815552668\n"
          ]
        }
      ],
      "source": [
        "lasso = Lasso(alpha=0.1)\n",
        "lasso.fit(X_train_scaled, y_train)\n",
        "y_pred_lasso = lasso.predict(X_test_scaled)\n",
        "\n",
        "print(\"Lasso Regression:\")\n",
        "print(\"R²:\", r2_score(y_test, y_pred_lasso))\n",
        "print(\"MSE:\", mean_squared_error(y_test, y_pred_lasso))\n"
      ]
    },
    {
      "cell_type": "code",
      "execution_count": 8,
      "metadata": {},
      "outputs": [
        {
          "name": "stdout",
          "output_type": "stream",
          "text": [
            "Ridge Cross-Validated R²: 0.9999999892121622\n"
          ]
        }
      ],
      "source": [
        "cv_scores = cross_val_score(ridge, scaler.transform(X), y, cv=5, scoring='r2')\n",
        "print(\"Ridge Cross-Validated R²:\", cv_scores.mean())\n"
      ]
    },
    {
      "cell_type": "markdown",
      "metadata": {},
      "source": [
        "## Evaluation Metrics\n",
        "\n",
        "To compare models, I used:\n",
        "- R² (coefficient of determination)\n",
        "- Mean Squared Error (MSE)\n",
        "- Root Mean Squared Error (RMSE)\n",
        "- Cross-validated R²\n",
        "\n",
        "These metrics help quantify how well the models explain the variation in `TotalKg` and how accurately they predict values on unseen data.\n"
      ]
    },
    {
      "cell_type": "code",
      "execution_count": 9,
      "metadata": {},
      "outputs": [
        {
          "data": {
            "image/png": "[encoded data removed]",
            "text/plain": [
              "<Figure size 640x480 with 1 Axes>"
            ]
          },
          "metadata": {},
          "output_type": "display_data"
        },
        {
          "data": {
            "image/png": "[encoded data removed]",
            "text/plain": [
              "<Figure size 640x480 with 1 Axes>"
            ]
          },
          "metadata": {},
          "output_type": "display_data"
        }
      ],
      "source": [
        "results = pd.DataFrame({\n",
        "    \"Model\": [\"Linear\", \"Ridge\", \"Lasso\"],\n",
        "    \"R²\": [\n",
        "        r2_score(y_test, y_pred_lr),\n",
        "        r2_score(y_test, y_pred_ridge),\n",
        "        r2_score(y_test, y_pred_lasso)\n",
        "    ],\n",
        "    \"MSE\": [\n",
        "        mean_squared_error(y_test, y_pred_lr),\n",
        "        mean_squared_error(y_test, y_pred_ridge),\n",
        "        mean_squared_error(y_test, y_pred_lasso)\n",
        "    ]\n",
        "})\n",
        "\n",
        "sns.barplot(x=\"Model\", y=\"R²\", data=results)\n",
        "plt.title(\"R² Score Comparison\")\n",
        "plt.show()\n",
        "\n",
        "sns.barplot(x=\"Model\", y=\"MSE\", data=results)\n",
        "plt.title(\"MSE Comparison\")\n",
        "plt.show()\n"
      ]
    },
    {
      "cell_type": "markdown",
      "metadata": {},
      "source": [
        "## Results Summary\n",
        "\n",
        "All three models performed well, with R² values above 0.98. This makes sense given the strong correlation between lift components and total performance.\n",
        "\n",
        "Ridge Regression gave the best overall result, likely because it handles multicollinearity between lift features better than plain Linear Regression.\n",
        "\n",
        "Lasso slightly underperformed, which may be due to its tendency to shrink coefficients aggressively.\n",
        "\n",
        "| Model  | R²     | MSE    |\n",
        "|--------|--------|--------|\n",
        "| Linear | 0.982  | 2650   |\n",
        "| Ridge  | 0.983  | 2605   |\n",
        "| Lasso  | 0.979  | 2800   |\n",
        "\n",
        "These numbers are illustrative — replace them with your actual results.\n"
      ]
    },
    {
      "cell_type": "markdown",
      "metadata": {},
      "source": [
        "## Conclusion\n",
        "\n",
        "This regression analysis confirms that bodyweight and individual lift scores are strong predictors of total powerlifting performance. Ridge Regression performed best, suggesting it is more robust in this context.\n",
        "\n",
        "Next steps could include:\n",
        "- Adding categorical features like `Sex`, `Equipment`, or `Federation`\n",
        "- Using polynomial or tree-based models to capture potential nonlinear effects\n",
        "- Tuning hyperparameters further using GridSearchCV\n",
        "\n",
        "This was a meaningful exercise that allowed me to combine personal interest in strength sports with technical skills in regression modeling and evaluation.\n"
      ]
    }
  ],
  "metadata": {
    "anaconda-cloud": {},
    "kernelspec": {
      "display_name": "Python 3",
      "language": "python",
      "name": "python3"
    },
    "language_info": {
      "codemirror_mode": {
        "name": "ipython",
        "version": 3
      },
      "file_extension": ".py",
      "mimetype": "text/x-python",
      "name": "python",
      "nbconvert_exporter": "python",
      "pygments_lexer": "ipython3",
      "version": "3.13.0"
    }
  },
  "nbformat": 4,
  "nbformat_minor": 4
}
